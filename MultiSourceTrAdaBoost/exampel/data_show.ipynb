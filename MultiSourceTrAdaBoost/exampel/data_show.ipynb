{
 "cells": [
  {
   "cell_type": "code",
   "execution_count": 7,
   "id": "30153678",
   "metadata": {},
   "outputs": [],
   "source": [
    "import pandas as pd\n",
    "import matplotlib.pyplot as plt"
   ]
  },
  {
   "cell_type": "code",
   "execution_count": 3,
   "id": "d83e9ac5",
   "metadata": {},
   "outputs": [],
   "source": [
    "data = pd.read_csv('alldata.csv')"
   ]
  },
  {
   "cell_type": "code",
   "execution_count": 4,
   "id": "b2651c45",
   "metadata": {},
   "outputs": [
    {
     "data": {
      "text/html": [
       "<div>\n",
       "<style scoped>\n",
       "    .dataframe tbody tr th:only-of-type {\n",
       "        vertical-align: middle;\n",
       "    }\n",
       "\n",
       "    .dataframe tbody tr th {\n",
       "        vertical-align: top;\n",
       "    }\n",
       "\n",
       "    .dataframe thead th {\n",
       "        text-align: right;\n",
       "    }\n",
       "</style>\n",
       "<table border=\"1\" class=\"dataframe\">\n",
       "  <thead>\n",
       "    <tr style=\"text-align: right;\">\n",
       "      <th></th>\n",
       "      <th>Cr</th>\n",
       "      <th>1/T</th>\n",
       "      <th>ln(t)</th>\n",
       "      <th>DO</th>\n",
       "      <th>weightgain</th>\n",
       "    </tr>\n",
       "  </thead>\n",
       "  <tbody>\n",
       "    <tr>\n",
       "      <th>0</th>\n",
       "      <td>10.3800</td>\n",
       "      <td>0.001293</td>\n",
       "      <td>4.605170</td>\n",
       "      <td>8000</td>\n",
       "      <td>-1</td>\n",
       "    </tr>\n",
       "    <tr>\n",
       "      <th>1</th>\n",
       "      <td>10.3800</td>\n",
       "      <td>0.001293</td>\n",
       "      <td>5.521461</td>\n",
       "      <td>8000</td>\n",
       "      <td>1</td>\n",
       "    </tr>\n",
       "    <tr>\n",
       "      <th>2</th>\n",
       "      <td>10.3800</td>\n",
       "      <td>0.001293</td>\n",
       "      <td>6.214608</td>\n",
       "      <td>8000</td>\n",
       "      <td>1</td>\n",
       "    </tr>\n",
       "    <tr>\n",
       "      <th>3</th>\n",
       "      <td>10.3800</td>\n",
       "      <td>0.001293</td>\n",
       "      <td>6.907755</td>\n",
       "      <td>8000</td>\n",
       "      <td>1</td>\n",
       "    </tr>\n",
       "    <tr>\n",
       "      <th>4</th>\n",
       "      <td>11.0220</td>\n",
       "      <td>0.001083</td>\n",
       "      <td>5.298317</td>\n",
       "      <td>0</td>\n",
       "      <td>1</td>\n",
       "    </tr>\n",
       "    <tr>\n",
       "      <th>...</th>\n",
       "      <td>...</td>\n",
       "      <td>...</td>\n",
       "      <td>...</td>\n",
       "      <td>...</td>\n",
       "      <td>...</td>\n",
       "    </tr>\n",
       "    <tr>\n",
       "      <th>70</th>\n",
       "      <td>18.0596</td>\n",
       "      <td>0.001293</td>\n",
       "      <td>5.857933</td>\n",
       "      <td>10</td>\n",
       "      <td>-1</td>\n",
       "    </tr>\n",
       "    <tr>\n",
       "      <th>71</th>\n",
       "      <td>18.0596</td>\n",
       "      <td>0.001293</td>\n",
       "      <td>3.401197</td>\n",
       "      <td>25</td>\n",
       "      <td>-1</td>\n",
       "    </tr>\n",
       "    <tr>\n",
       "      <th>72</th>\n",
       "      <td>18.0596</td>\n",
       "      <td>0.001293</td>\n",
       "      <td>6.522093</td>\n",
       "      <td>10</td>\n",
       "      <td>-1</td>\n",
       "    </tr>\n",
       "    <tr>\n",
       "      <th>73</th>\n",
       "      <td>18.0596</td>\n",
       "      <td>0.001293</td>\n",
       "      <td>5.768321</td>\n",
       "      <td>25</td>\n",
       "      <td>-1</td>\n",
       "    </tr>\n",
       "    <tr>\n",
       "      <th>74</th>\n",
       "      <td>18.0596</td>\n",
       "      <td>0.001293</td>\n",
       "      <td>6.445720</td>\n",
       "      <td>25</td>\n",
       "      <td>-1</td>\n",
       "    </tr>\n",
       "  </tbody>\n",
       "</table>\n",
       "<p>75 rows × 5 columns</p>\n",
       "</div>"
      ],
      "text/plain": [
       "         Cr       1/T     ln(t)    DO  weightgain\n",
       "0   10.3800  0.001293  4.605170  8000          -1\n",
       "1   10.3800  0.001293  5.521461  8000           1\n",
       "2   10.3800  0.001293  6.214608  8000           1\n",
       "3   10.3800  0.001293  6.907755  8000           1\n",
       "4   11.0220  0.001083  5.298317     0           1\n",
       "..      ...       ...       ...   ...         ...\n",
       "70  18.0596  0.001293  5.857933    10          -1\n",
       "71  18.0596  0.001293  3.401197    25          -1\n",
       "72  18.0596  0.001293  6.522093    10          -1\n",
       "73  18.0596  0.001293  5.768321    25          -1\n",
       "74  18.0596  0.001293  6.445720    25          -1\n",
       "\n",
       "[75 rows x 5 columns]"
      ]
     },
     "execution_count": 4,
     "metadata": {},
     "output_type": "execute_result"
    }
   ],
   "source": [
    "data"
   ]
  },
  {
   "cell_type": "code",
   "execution_count": 5,
   "id": "5205cae2",
   "metadata": {},
   "outputs": [],
   "source": [
    "Cr = data.iloc[:,0]"
   ]
  },
  {
   "cell_type": "code",
   "execution_count": 28,
   "id": "d66b98aa",
   "metadata": {},
   "outputs": [
    {
     "data": {
      "image/png": "[encoded data removed]",
      "text/plain": [
       "<Figure size 640x480 with 1 Axes>"
      ]
     },
     "metadata": {},
     "output_type": "display_data"
    }
   ],
   "source": [
    "Cr.plot(kind = \"hist\",bins = 20,density= True)  \n",
    "plt.tick_params(labelsize=10)\n",
    "#Cr.plot(kind = 'density', secondary_y=True,fontsize=15)\n",
    "plt.savefig('Crdistribution.png',bbox_inches = 'tight',dpi=700)"
   ]
  },
  {
   "cell_type": "code",
   "execution_count": null,
   "id": "8c59ff6b",
   "metadata": {},
   "outputs": [],
   "source": []
  }
 ],
 "metadata": {
  "kernelspec": {
   "display_name": "Python 3 (ipykernel)",
   "language": "python",
   "name": "python3"
  },
  "language_info": {
   "codemirror_mode": {
    "name": "ipython",
    "version": 3
   },
   "file_extension": ".py",
   "mimetype": "text/x-python",
   "name": "python",
   "nbconvert_exporter": "python",
   "pygments_lexer": "ipython3",
   "version": "3.9.12"
  }
 },
 "nbformat": 4,
 "nbformat_minor": 5
}
